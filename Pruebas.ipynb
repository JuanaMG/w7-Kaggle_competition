{
 "cells": [
  {
   "cell_type": "markdown",
   "id": "9f26a085",
   "metadata": {},
   "source": [
    "### 'neighbourhood'"
   ]
  },
  {
   "cell_type": "code",
   "execution_count": 1,
   "id": "355c18d6",
   "metadata": {},
   "outputs": [],
   "source": [
    "datos_ok.neighbourhood.unique().tolist()"
   ]
  },
  {
   "cell_type": "code",
   "execution_count": null,
   "id": "56c43341",
   "metadata": {},
   "outputs": [],
   "source": [
    "dic_lugar = {\n",
    "    'Zuidoost':['Amsterdam-Zuidoost', 'Zuid-Oost'],\n",
    "    'Ouder-Amstel':['Ouder-Amstel'],\n",
    "    'Badhoevedorp':['Badhoevedorp'],\n",
    "    'Watergraafsmeer':['Watergraafsmeer'],\n",
    "    'Jordaan':['Jordaan'],\n",
    "    'Amstelveen':['Amstelveen'],\n",
    "    'Landsmeer':['Landsmeer'],\n",
    "    'Lijnden':['Lijnden', 'Zwanenburg'],\n",
    "    'Oostzaan':['Oostzaan'],\n",
    "    'Duivendrecht':['Duivendrecht'],\n",
    "    'Diemen':['Diemen'],\n",
    "    'Amsterdam':['Amsterdam', '1054 ZV']\n",
    "}"
   ]
  },
  {
   "cell_type": "code",
   "execution_count": null,
   "id": "f64e596b",
   "metadata": {},
   "outputs": [],
   "source": [
    "def place(p):\n",
    "    for k,v in dic_lugar.items():\n",
    "        if any(minivalue in p for minivalue in v):\n",
    "            return k\n",
    "        else:\n",
    "            pass\n",
    "    return p"
   ]
  },
  {
   "cell_type": "code",
   "execution_count": null,
   "id": "90027119",
   "metadata": {},
   "outputs": [],
   "source": [
    "datos_ok['neighbourhood'] = datos_ok['neighbourhood'].apply(place)"
   ]
  },
  {
   "cell_type": "markdown",
   "id": "f1940cad",
   "metadata": {},
   "source": [
    "### 'bathrooms_text'"
   ]
  },
  {
   "cell_type": "code",
   "execution_count": null,
   "id": "926f1729",
   "metadata": {},
   "outputs": [],
   "source": [
    "datos_ok.bathrooms_text.unique().tolist()"
   ]
  },
  {
   "cell_type": "code",
   "execution_count": null,
   "id": "3a8d6b5a",
   "metadata": {},
   "outputs": [],
   "source": [
    "datos_ok = datos_ok.fillna({'bathrooms_text': 0})"
   ]
  },
  {
   "cell_type": "code",
   "execution_count": null,
   "id": "1e3a8801",
   "metadata": {},
   "outputs": [],
   "source": [
    "datos_ok.bathrooms_text.isna().sum()"
   ]
  },
  {
   "cell_type": "code",
   "execution_count": null,
   "id": "8ca7ab6c",
   "metadata": {},
   "outputs": [],
   "source": [
    "datos_ok = datos_ok.assign(bathrooms_text = lambda x: x['bathrooms_text'].str.extract('(\\d+)'))"
   ]
  },
  {
   "cell_type": "code",
   "execution_count": null,
   "id": "d6125842",
   "metadata": {},
   "outputs": [],
   "source": [
    "# Se quedan con valores enteros... no coge los baños y medio!"
   ]
  },
  {
   "cell_type": "code",
   "execution_count": null,
   "id": "1b669cb9",
   "metadata": {},
   "outputs": [],
   "source": [
    "datos_ok.bathrooms_text.value_counts()"
   ]
  },
  {
   "cell_type": "code",
   "execution_count": null,
   "id": "b891fee7",
   "metadata": {},
   "outputs": [],
   "source": [
    "datos_ok.bathrooms_text.isna().sum()"
   ]
  },
  {
   "cell_type": "markdown",
   "id": "3840fbbd",
   "metadata": {},
   "source": [
    "##### Eliminar columnas"
   ]
  },
  {
   "cell_type": "code",
   "execution_count": null,
   "id": "4a863cb6",
   "metadata": {},
   "outputs": [],
   "source": [
    "''' # Eliminar columnas:\n",
    "'listing_url', 'scrape_id', 'last_scraped', 'name', 'description', 'neighborhood_overview', 'picture_url','host_id',\n",
    "'host_url','host_name', 'host_since', 'host_location','host_about', 'host_response_time','host_response_rate',\n",
    "'host_acceptance_rate', 'host_thumbnail_url','host_picture_url', 'host_listings_count', 'host_total_listings_count', \n",
    "'host_verifications', 'host_has_profile_pic', 'host_identity_verified','host_neighbourhood', 'neighbourhood_cleansed', \n",
    "'neighbourhood_group_cleansed','bathrooms', 'amenities', 'minimum_minimum_nights','maximum_minimum_nights', \n",
    "'minimum_maximum_nights', 'maximum_maximum_nights','minimum_nights_avg_ntm','maximum_nights_avg_ntm', 'calendar_updated',\n",
    "'has_availability', 'availability_30', 'availability_60','availability_90','availability_365', 'calendar_last_scraped', \n",
    "'number_of_reviews','number_of_reviews_ltm','number_of_reviews_l30d','first_review','last_review','review_scores_rating',\n",
    "'review_scores_accuracy','review_scores_cleanliness','review_scores_checkin','review_scores_communication', \n",
    "'review_scores_location','review_scores_value','license','instant_bookable', 'calculated_host_listings_count',\n",
    "'calculated_host_listings_count_entire_homes','calculated_host_listings_count_private_rooms',\n",
    "'calculated_host_listings_count_shared_rooms','reviews_per_month'\n",
    "\n",
    "'bathrooms_text', 'neighbourhood', 'room_type', 'beds'\n",
    "\n",
    "'''"
   ]
  }
 ],
 "metadata": {
  "kernelspec": {
   "display_name": "ironhack",
   "language": "python",
   "name": "ironhack"
  },
  "language_info": {
   "codemirror_mode": {
    "name": "ipython",
    "version": 3
   },
   "file_extension": ".py",
   "mimetype": "text/x-python",
   "name": "python",
   "nbconvert_exporter": "python",
   "pygments_lexer": "ipython3",
   "version": "3.8.2"
  }
 },
 "nbformat": 4,
 "nbformat_minor": 5
}
