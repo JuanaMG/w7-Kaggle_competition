{
 "cells": [
  {
   "cell_type": "markdown",
   "id": "624b8110",
   "metadata": {},
   "source": [
    "# Kaggle Competition"
   ]
  },
  {
   "cell_type": "code",
   "execution_count": null,
   "id": "aa0e9a39",
   "metadata": {},
   "outputs": [],
   "source": [
    "# Librerias\n",
    "import pandas as pd\n",
    "import matplotlib.pyplot as plt\n",
    "import seaborn as sns\n",
    "import numpy as np\n",
    "from sklearn.model_selection import train_test_split as tts\n",
    "from sklearn.ensemble import RandomForestRegressor as RFR\n",
    "from sklearn.metrics import mean_squared_error as mse\n",
    "from xgboost import XGBRegressor as XGBR\n",
    "from sklearn.linear_model import LinearRegression as LinReg\n",
    "from sklearn.metrics import r2_score as r2\n",
    "from catboost import CatBoostRegressor as CTR"
   ]
  },
  {
   "cell_type": "code",
   "execution_count": null,
   "id": "d265f498",
   "metadata": {},
   "outputs": [],
   "source": [
    "datos = pd.read_csv('data/train.csv')"
   ]
  },
  {
   "cell_type": "code",
   "execution_count": null,
   "id": "bc673b5d",
   "metadata": {
    "scrolled": false
   },
   "outputs": [],
   "source": [
    "# Observamos las columnas numéricas para ver cuantas podemos utilizar sin modificar\n",
    "datos._get_numeric_data()"
   ]
  },
  {
   "cell_type": "code",
   "execution_count": null,
   "id": "443284c4",
   "metadata": {},
   "outputs": [],
   "source": [
    "# Columnas con las que nos quedamos\n",
    "datos_ok = datos.loc[:,['host_is_superhost','latitude', 'longitude', 'property_type', 'accommodates',\n",
    "                        'bedrooms', 'price', 'minimum_nights', 'maximum_nights']]\n"
   ]
  },
  {
   "cell_type": "code",
   "execution_count": null,
   "id": "d20e4a61",
   "metadata": {
    "scrolled": true
   },
   "outputs": [],
   "source": [
    "#datos_ok"
   ]
  },
  {
   "cell_type": "code",
   "execution_count": null,
   "id": "4c3355ec",
   "metadata": {},
   "outputs": [],
   "source": [
    "# ARREGLAR:  \n",
    "# property_type, neighbourhood"
   ]
  },
  {
   "cell_type": "markdown",
   "id": "8fb11b06",
   "metadata": {},
   "source": [
    "### BUSCAR NANs"
   ]
  },
  {
   "cell_type": "code",
   "execution_count": null,
   "id": "24c2edfb",
   "metadata": {
    "scrolled": false
   },
   "outputs": [],
   "source": [
    "datos_ok.isna().sum()"
   ]
  },
  {
   "cell_type": "markdown",
   "id": "f7c2bfba",
   "metadata": {},
   "source": [
    "### LIMPIEZA 'bedrooms', 'neighbourhood', 'property_type'"
   ]
  },
  {
   "cell_type": "code",
   "execution_count": null,
   "id": "485b4763",
   "metadata": {},
   "outputs": [],
   "source": [
    "# Tener en cuenta que NO se pueden eliminar filas! \n",
    "# Las filas deben ser las mismas en los datos 'train.csv' y 'test.csv'"
   ]
  },
  {
   "cell_type": "markdown",
   "id": "564af22b",
   "metadata": {},
   "source": [
    "##### Limpieza 'bedrooms'"
   ]
  },
  {
   "cell_type": "code",
   "execution_count": null,
   "id": "5688d973",
   "metadata": {
    "scrolled": true
   },
   "outputs": [],
   "source": [
    "#reemplazo los Nans de bedrooms por la mediana\n",
    "datos_ok.bedrooms.fillna(value=int(datos_ok['bedrooms'].median()), inplace=True)"
   ]
  },
  {
   "cell_type": "code",
   "execution_count": null,
   "id": "64f8abff",
   "metadata": {},
   "outputs": [],
   "source": [
    "datos_ok.isna().sum()"
   ]
  },
  {
   "cell_type": "markdown",
   "id": "f6563dc7",
   "metadata": {},
   "source": [
    "##### Limpieza 'neighbourhood'"
   ]
  },
  {
   "cell_type": "code",
   "execution_count": null,
   "id": "39278edb",
   "metadata": {},
   "outputs": [],
   "source": [
    "# Reemplazo los Nans de 'neighbourhood' por 'Unknown'"
   ]
  },
  {
   "cell_type": "code",
   "execution_count": null,
   "id": "9319986a",
   "metadata": {},
   "outputs": [],
   "source": [
    "datos_ok['neighbourhood'].fillna('Unknown', inplace=True)"
   ]
  },
  {
   "cell_type": "code",
   "execution_count": null,
   "id": "933fa33e",
   "metadata": {
    "scrolled": true
   },
   "outputs": [],
   "source": [
    "datos_ok.isna().sum()"
   ]
  },
  {
   "cell_type": "code",
   "execution_count": null,
   "id": "dcc41fb3",
   "metadata": {},
   "outputs": [],
   "source": [
    "# Creación de un diccionario para pasarlo dentro de la función indicada abajo. \n",
    "# La finalidad es agrupar las diferentes localizaciones de los pisos para luego crear variables dummies."
   ]
  },
  {
   "cell_type": "code",
   "execution_count": null,
   "id": "eab6cf26",
   "metadata": {},
   "outputs": [],
   "source": [
    "dic_lugar = {\n",
    "    'Zuidoost':['Amsterdam-Zuidoost', 'Zuid-Oost'],\n",
    "    'Ouder-Amstel':['Ouder-Amstel', 'Amstel', 'Amstelveen'],\n",
    "    'No-centro':['Badhoevedorp', 'Landsmeer', 'Oostzaan', 'Lijnden','Zwanenburg','Duivendrecht'],\n",
    "    'Unknown':['Unknown'],\n",
    "    'Amsterdam':['Amsterdam', '1054 ZV', 'Watergraafsmeer', 'Jordaan', 'Diemen','Zeeburg','Netherlands']\n",
    "}"
   ]
  },
  {
   "cell_type": "code",
   "execution_count": null,
   "id": "dad9e06b",
   "metadata": {},
   "outputs": [],
   "source": [
    "def place(p):\n",
    "    for k,v in dic_lugar.items():\n",
    "        if any(minivalue in p for minivalue in v):\n",
    "            return k\n",
    "        else:\n",
    "            pass\n",
    "    return p"
   ]
  },
  {
   "cell_type": "code",
   "execution_count": null,
   "id": "09cc50cc",
   "metadata": {},
   "outputs": [],
   "source": [
    "datos_ok['neighbourhood'] = datos_ok['neighbourhood'].apply(place)"
   ]
  },
  {
   "cell_type": "markdown",
   "id": "d4072c90",
   "metadata": {},
   "source": [
    "##### Limpieza 'property_type'"
   ]
  },
  {
   "cell_type": "code",
   "execution_count": null,
   "id": "300381c5",
   "metadata": {},
   "outputs": [],
   "source": [
    "# Creación de un diccionario y una función para agrupar los tipos de viviendas"
   ]
  },
  {
   "cell_type": "code",
   "execution_count": null,
   "id": "80be3144",
   "metadata": {
    "scrolled": true
   },
   "outputs": [],
   "source": [
    "datos_ok.property_type.unique().tolist()"
   ]
  },
  {
   "cell_type": "code",
   "execution_count": null,
   "id": "33f6823b",
   "metadata": {},
   "outputs": [],
   "source": [
    "datos_ok['property_type'] = datos_ok['property_type'].str.lower()"
   ]
  },
  {
   "cell_type": "code",
   "execution_count": null,
   "id": "8f9fbaff",
   "metadata": {},
   "outputs": [],
   "source": [
    "dic_rooms = {\n",
    "    'hotel':['hotel'],\n",
    "    'BB':['bed and breakfast'],\n",
    "    'private_room':['room'],\n",
    "    'boat':['boat','houseboat'],\n",
    "    'villa/cottage/entire_place':['entire','cottage', 'house','casa'],\n",
    "    'Other':['camper', 'barn', 'cave', 'tower','bus']\n",
    "}"
   ]
  },
  {
   "cell_type": "code",
   "execution_count": null,
   "id": "28c3653d",
   "metadata": {},
   "outputs": [],
   "source": [
    "def transformar(x):\n",
    "    for k,v in dic_rooms.items():\n",
    "        if any(minivalue in x for minivalue in v):\n",
    "            return k\n",
    "        else:\n",
    "            pass\n",
    "    return x"
   ]
  },
  {
   "cell_type": "code",
   "execution_count": null,
   "id": "03234cd7",
   "metadata": {},
   "outputs": [],
   "source": [
    "datos_ok['property_type'] = datos_ok['property_type'].apply(transformar)"
   ]
  },
  {
   "cell_type": "code",
   "execution_count": null,
   "id": "fda95e18",
   "metadata": {
    "scrolled": true
   },
   "outputs": [],
   "source": [
    "datos_ok.property_type.value_counts()"
   ]
  },
  {
   "cell_type": "markdown",
   "id": "963de17d",
   "metadata": {},
   "source": [
    "### CREAR VARIABLES DUMMIES EN:  'property_type', 'host_is_superhost', 'neighbourhood'"
   ]
  },
  {
   "cell_type": "markdown",
   "id": "424c83d7",
   "metadata": {},
   "source": [
    "#####  'property_type'"
   ]
  },
  {
   "cell_type": "code",
   "execution_count": null,
   "id": "226c9a05",
   "metadata": {
    "scrolled": true
   },
   "outputs": [],
   "source": [
    "datos_ok=pd.concat([datos_ok, pd.get_dummies(datos_ok.property_type).reset_index(drop=True)], axis=1)\n",
    "datos_ok=datos_ok.drop('property_type', axis = 1)\n",
    "datos_ok.head()"
   ]
  },
  {
   "cell_type": "markdown",
   "id": "586a78cb",
   "metadata": {},
   "source": [
    "##### 'host_is_superhost'"
   ]
  },
  {
   "cell_type": "code",
   "execution_count": null,
   "id": "99dc287d",
   "metadata": {
    "scrolled": true
   },
   "outputs": [],
   "source": [
    "datos_ok=pd.concat([datos_ok, pd.get_dummies(datos_ok.host_is_superhost).reset_index(drop=True)], axis=1)\n",
    "datos_ok=datos_ok.drop('host_is_superhost', axis = 1)\n",
    "datos_ok.head()"
   ]
  },
  {
   "cell_type": "markdown",
   "id": "04ac0c95",
   "metadata": {},
   "source": [
    "##### 'neighbourhood'"
   ]
  },
  {
   "cell_type": "code",
   "execution_count": null,
   "id": "698fe7ad",
   "metadata": {},
   "outputs": [],
   "source": [
    "datos_ok=pd.concat([datos_ok, pd.get_dummies(datos_ok.neighbourhood).reset_index(drop=True)], axis=1)\n",
    "datos_ok=datos_ok.drop('neighbourhood', axis = 1)\n",
    "datos_ok.head()"
   ]
  },
  {
   "cell_type": "markdown",
   "id": "4aeb9078",
   "metadata": {},
   "source": [
    "###### Matriz de correlación"
   ]
  },
  {
   "cell_type": "code",
   "execution_count": null,
   "id": "d22c7aea",
   "metadata": {},
   "outputs": [],
   "source": [
    "# A medida que avanzamos en el estudio y se incorporan variables, la matriz se va apliando y modificando."
   ]
  },
  {
   "cell_type": "code",
   "execution_count": null,
   "id": "b388bd2d",
   "metadata": {},
   "outputs": [],
   "source": [
    "corr_datos = datos_ok.corr()\n",
    "mascara = np.triu(np.ones_like(corr_datos, dtype=bool))\n",
    "plt.figure(figsize=(10, 8))\n",
    "sns.heatmap(corr_datos, mask = mascara, annot=True)\n",
    "plt.show()"
   ]
  },
  {
   "cell_type": "markdown",
   "id": "3a359a4d",
   "metadata": {},
   "source": [
    "### MODELOS"
   ]
  },
  {
   "cell_type": "code",
   "execution_count": null,
   "id": "c7e68e9f",
   "metadata": {},
   "outputs": [],
   "source": [
    "X = datos_ok.drop('price', axis=1)\n",
    "y = datos_ok.price"
   ]
  },
  {
   "cell_type": "code",
   "execution_count": null,
   "id": "dd3a2bee",
   "metadata": {},
   "outputs": [],
   "source": [
    "X_train, X_test, y_train, y_test = tts(X, y, test_size=0.2, random_state=8)"
   ]
  },
  {
   "cell_type": "markdown",
   "id": "9539f282",
   "metadata": {},
   "source": [
    "#### Función probar modelos:"
   ]
  },
  {
   "cell_type": "code",
   "execution_count": null,
   "id": "20f1a5d6",
   "metadata": {},
   "outputs": [],
   "source": [
    "def pruebas(modelo):\n",
    "    \n",
    "    modelo.fit(X_train, y_train)\n",
    "    y_pred=modelo.predict(X_test)\n",
    "    error = mse(y_pred, y_test, squared=False)\n",
    "    \n",
    "    train_score=modelo.score(X_train, y_train)\n",
    "    test_score=modelo.score(X_test, y_test)\n",
    "    \n",
    "    \n",
    "    print('Train R2:', train_score)\n",
    "    print('Test R2:', test_score)\n",
    "    print('rmse:', error)\n",
    "    \n",
    "    return modelo"
   ]
  },
  {
   "cell_type": "code",
   "execution_count": null,
   "id": "120b8edb",
   "metadata": {},
   "outputs": [],
   "source": [
    "# Regresión lineal múltiple"
   ]
  },
  {
   "cell_type": "code",
   "execution_count": null,
   "id": "730acb85",
   "metadata": {},
   "outputs": [],
   "source": [
    "linreg=LinReg()\n",
    "linreg=pruebas(linreg)\n",
    "y_pred=linreg.predict(X_test)"
   ]
  },
  {
   "cell_type": "code",
   "execution_count": null,
   "id": "7f25aa4c",
   "metadata": {},
   "outputs": [],
   "source": [
    "# Random Forest Regressor"
   ]
  },
  {
   "cell_type": "code",
   "execution_count": null,
   "id": "0c18be84",
   "metadata": {},
   "outputs": [],
   "source": [
    "rfr=RFR()\n",
    "rfr=pruebas(rfr)\n",
    "y_pred=rfr.predict(X_test)\n",
    "mse(y_pred, y_test, squared=False)"
   ]
  },
  {
   "cell_type": "code",
   "execution_count": null,
   "id": "1312be5a",
   "metadata": {},
   "outputs": [],
   "source": [
    "# Extreme Gradient Boosting"
   ]
  },
  {
   "cell_type": "code",
   "execution_count": null,
   "id": "6c3cb865",
   "metadata": {},
   "outputs": [],
   "source": [
    "xgbr=XGBR()\n",
    "xgbr=pruebas(xgbr)\n",
    "y_pred=xgbr.predict(X_test)\n",
    "mse(y_pred, y_test, squared=False)"
   ]
  },
  {
   "cell_type": "code",
   "execution_count": null,
   "id": "a9121df3",
   "metadata": {},
   "outputs": [],
   "source": [
    "# Catboost"
   ]
  },
  {
   "cell_type": "code",
   "execution_count": null,
   "id": "4e6f493a",
   "metadata": {},
   "outputs": [],
   "source": [
    "ctr=CTR(verbose=0)\n",
    "ctr=pruebas(ctr)\n",
    "y_pred=ctr.predict(X_test)\n",
    "mse(y_pred, y_test, squared=False)"
   ]
  },
  {
   "cell_type": "markdown",
   "id": "bd5c5c51",
   "metadata": {},
   "source": [
    "### Modificar parámetros:"
   ]
  },
  {
   "cell_type": "code",
   "execution_count": null,
   "id": "25503f85",
   "metadata": {},
   "outputs": [],
   "source": [
    "# Al añadir/eliminar variables de los datos el resultado siempre ha sido peor que utilizándolos todos."
   ]
  },
  {
   "cell_type": "code",
   "execution_count": null,
   "id": "2db978c7",
   "metadata": {},
   "outputs": [],
   "source": [
    "X = datos_ok.drop(['price','bedrooms','Unknown', 'private_room'], axis=1)\n",
    "y = datos_ok.price"
   ]
  },
  {
   "cell_type": "code",
   "execution_count": null,
   "id": "957209ee",
   "metadata": {},
   "outputs": [],
   "source": [
    "X_train, X_test, y_train, y_test = tts(X, y, test_size=0.2, random_state=9)"
   ]
  },
  {
   "cell_type": "code",
   "execution_count": null,
   "id": "d79d55ec",
   "metadata": {},
   "outputs": [],
   "source": [
    "# Random Forest Regressor"
   ]
  },
  {
   "cell_type": "code",
   "execution_count": null,
   "id": "e18c919a",
   "metadata": {},
   "outputs": [],
   "source": [
    "rfr=RFR()\n",
    "rfr=pruebas(rfr)\n",
    "y_pred=rfr.predict(X_test)\n",
    "mse(y_pred, y_test, squared=False)"
   ]
  },
  {
   "cell_type": "code",
   "execution_count": null,
   "id": "01c9d14d",
   "metadata": {},
   "outputs": [],
   "source": [
    "# Extreme Gradient Boosting"
   ]
  },
  {
   "cell_type": "code",
   "execution_count": null,
   "id": "48d5d6c5",
   "metadata": {},
   "outputs": [],
   "source": [
    "xgbr=XGBR()\n",
    "xgbr=pruebas(xgbr)\n",
    "y_pred=xgbr.predict(X_test)\n",
    "mse(y_pred, y_test, squared=False)"
   ]
  },
  {
   "cell_type": "code",
   "execution_count": null,
   "id": "9044746d",
   "metadata": {},
   "outputs": [],
   "source": [
    "# Catboost"
   ]
  },
  {
   "cell_type": "code",
   "execution_count": null,
   "id": "c81fd335",
   "metadata": {},
   "outputs": [],
   "source": [
    "ctr=CTR(verbose=0)\n",
    "ctr=pruebas(ctr)\n",
    "y_pred=ctr.predict(X_test)\n",
    "mse(y_pred, y_test, squared=False)"
   ]
  },
  {
   "cell_type": "markdown",
   "id": "5f3596bb",
   "metadata": {},
   "source": [
    "## Predicción sobre test"
   ]
  },
  {
   "cell_type": "code",
   "execution_count": null,
   "id": "8fd6c7e8",
   "metadata": {},
   "outputs": [],
   "source": [
    "#Hacemos la predicción sobre los datos 'test.csv'"
   ]
  },
  {
   "cell_type": "code",
   "execution_count": null,
   "id": "ca6857bc",
   "metadata": {
    "scrolled": true
   },
   "outputs": [],
   "source": [
    "X.shape"
   ]
  },
  {
   "cell_type": "code",
   "execution_count": null,
   "id": "530702c1",
   "metadata": {},
   "outputs": [],
   "source": [
    "new_data=pd.read_csv('data/test.csv')"
   ]
  },
  {
   "cell_type": "code",
   "execution_count": null,
   "id": "96097d03",
   "metadata": {},
   "outputs": [],
   "source": [
    "new_data=new_data.loc[:,['host_is_superhost','latitude', 'longitude', 'property_type', 'accommodates',\n",
    "                        'bedrooms', 'minimum_nights', 'maximum_nights']]"
   ]
  },
  {
   "cell_type": "code",
   "execution_count": null,
   "id": "4e7fd4db",
   "metadata": {},
   "outputs": [],
   "source": [
    "# Se realiza exactamente la misma limpieza que en los datos 'train.csv'.\n",
    "# OJO! Las filas NO pueden variar, deben ser las mismas. "
   ]
  },
  {
   "cell_type": "markdown",
   "id": "52ed1710",
   "metadata": {},
   "source": [
    "###### 'bedrooms'"
   ]
  },
  {
   "cell_type": "code",
   "execution_count": null,
   "id": "1c6e533e",
   "metadata": {},
   "outputs": [],
   "source": [
    "# Reemplazar Nans"
   ]
  },
  {
   "cell_type": "code",
   "execution_count": null,
   "id": "e6c5f6d5",
   "metadata": {},
   "outputs": [],
   "source": [
    "new_data.isna().sum()"
   ]
  },
  {
   "cell_type": "code",
   "execution_count": null,
   "id": "117e0f7b",
   "metadata": {},
   "outputs": [],
   "source": [
    "new_data.bedrooms.fillna(value=int(new_data['bedrooms'].median()), inplace=True)"
   ]
  },
  {
   "cell_type": "code",
   "execution_count": null,
   "id": "5e3fd9e7",
   "metadata": {
    "scrolled": true
   },
   "outputs": [],
   "source": [
    "new_data.isna().sum()"
   ]
  },
  {
   "cell_type": "markdown",
   "id": "a915b2e9",
   "metadata": {},
   "source": [
    "###### 'neighbourhood'"
   ]
  },
  {
   "cell_type": "code",
   "execution_count": null,
   "id": "095e9924",
   "metadata": {},
   "outputs": [],
   "source": [
    "# Reemplazar Nans y pasar la función (place)"
   ]
  },
  {
   "cell_type": "code",
   "execution_count": null,
   "id": "9897adf8",
   "metadata": {},
   "outputs": [],
   "source": [
    "new_data['neighbourhood'].fillna('Unknown', inplace=True)"
   ]
  },
  {
   "cell_type": "code",
   "execution_count": null,
   "id": "f003fc33",
   "metadata": {},
   "outputs": [],
   "source": [
    "new_data.isna().sum()"
   ]
  },
  {
   "cell_type": "code",
   "execution_count": null,
   "id": "34c88afc",
   "metadata": {},
   "outputs": [],
   "source": [
    "new_data['neighbourhood'] = new_data['neighbourhood'].apply(place)"
   ]
  },
  {
   "cell_type": "markdown",
   "id": "3752ec95",
   "metadata": {},
   "source": [
    "###### 'property_type'"
   ]
  },
  {
   "cell_type": "code",
   "execution_count": null,
   "id": "bbce6888",
   "metadata": {},
   "outputs": [],
   "source": [
    "# Minúscula y función (transformar) para agrupar los tipos de propiedades"
   ]
  },
  {
   "cell_type": "code",
   "execution_count": null,
   "id": "37639402",
   "metadata": {},
   "outputs": [],
   "source": [
    "new_data['property_type'] = new_data['property_type'].str.lower().apply(transformar)"
   ]
  },
  {
   "cell_type": "markdown",
   "id": "83b65808",
   "metadata": {},
   "source": [
    "###### Crear variables dummies para 'property type' , 'neighbourhood' y 'superhost' y eliminar las originales"
   ]
  },
  {
   "cell_type": "code",
   "execution_count": null,
   "id": "317144e8",
   "metadata": {},
   "outputs": [],
   "source": [
    "# property_type"
   ]
  },
  {
   "cell_type": "code",
   "execution_count": null,
   "id": "ff4a4071",
   "metadata": {},
   "outputs": [],
   "source": [
    "new_data=pd.concat([new_data, pd.get_dummies(new_data.property_type).reset_index(drop=True)], axis=1)\n",
    "new_data=new_data.drop('property_type', axis = 1)"
   ]
  },
  {
   "cell_type": "code",
   "execution_count": null,
   "id": "149c6abb",
   "metadata": {},
   "outputs": [],
   "source": [
    "# host_is_superhost"
   ]
  },
  {
   "cell_type": "code",
   "execution_count": null,
   "id": "3472ff99",
   "metadata": {},
   "outputs": [],
   "source": [
    "new_data=pd.concat([new_data, pd.get_dummies(new_data.host_is_superhost).reset_index(drop=True)], axis=1)\n",
    "new_data=new_data.drop('host_is_superhost', axis = 1)"
   ]
  },
  {
   "cell_type": "code",
   "execution_count": null,
   "id": "cfc09ff8",
   "metadata": {},
   "outputs": [],
   "source": [
    "## 'neighbourhood'"
   ]
  },
  {
   "cell_type": "code",
   "execution_count": null,
   "id": "666d4522",
   "metadata": {},
   "outputs": [],
   "source": [
    "new_data=pd.concat([new_data, pd.get_dummies(new_data.neighbourhood).reset_index(drop=True)], axis=1)\n",
    "new_data=new_data.drop('neighbourhood', axis = 1)"
   ]
  },
  {
   "cell_type": "code",
   "execution_count": null,
   "id": "280f1638",
   "metadata": {},
   "outputs": [],
   "source": [
    "X.head()"
   ]
  },
  {
   "cell_type": "code",
   "execution_count": null,
   "id": "0b855450",
   "metadata": {},
   "outputs": [],
   "source": [
    "## new_data y X deben tener las mismas columnas"
   ]
  },
  {
   "cell_type": "code",
   "execution_count": null,
   "id": "554491b8",
   "metadata": {},
   "outputs": [],
   "source": [
    "new_data.shape"
   ]
  },
  {
   "cell_type": "code",
   "execution_count": null,
   "id": "4d6d77ee",
   "metadata": {
    "scrolled": true
   },
   "outputs": [],
   "source": [
    "new_data.head()"
   ]
  },
  {
   "cell_type": "code",
   "execution_count": null,
   "id": "019ee0a9",
   "metadata": {},
   "outputs": [],
   "source": [
    "X.head()"
   ]
  },
  {
   "cell_type": "code",
   "execution_count": null,
   "id": "f5e5cd8b",
   "metadata": {},
   "outputs": [],
   "source": [
    "X.shape"
   ]
  },
  {
   "cell_type": "code",
   "execution_count": null,
   "id": "7e1f70ee",
   "metadata": {},
   "outputs": [],
   "source": [
    "## .predict de new_data"
   ]
  },
  {
   "cell_type": "code",
   "execution_count": null,
   "id": "ed592433",
   "metadata": {},
   "outputs": [],
   "source": [
    "y_pred=rfr.predict(new_data)"
   ]
  },
  {
   "cell_type": "code",
   "execution_count": null,
   "id": "784fb84f",
   "metadata": {},
   "outputs": [],
   "source": [
    "y_pred.shape"
   ]
  },
  {
   "cell_type": "code",
   "execution_count": null,
   "id": "ddaaa176",
   "metadata": {},
   "outputs": [],
   "source": [
    "sample_df=pd.DataFrame()\n",
    "\n",
    "sample_df['id']=[str(i) for i in range(len(y_pred))]\n",
    "sample_df['price']=y_pred\n",
    "\n",
    "sample_df.shape"
   ]
  },
  {
   "cell_type": "code",
   "execution_count": null,
   "id": "413164de",
   "metadata": {},
   "outputs": [],
   "source": [
    "sample_df.head()"
   ]
  },
  {
   "cell_type": "code",
   "execution_count": null,
   "id": "5925f82e",
   "metadata": {},
   "outputs": [],
   "source": [
    "# Guardamos en un csv para subirlo a Kaggle y ver las predicciones"
   ]
  },
  {
   "cell_type": "code",
   "execution_count": null,
   "id": "0df8b8be",
   "metadata": {},
   "outputs": [],
   "source": [
    " sample_df.to_csv('data/prediccion_try4.csv', index=False, header=True)"
   ]
  }
 ],
 "metadata": {
  "kernelspec": {
   "display_name": "ironhack",
   "language": "python",
   "name": "ironhack"
  },
  "language_info": {
   "codemirror_mode": {
    "name": "ipython",
    "version": 3
   },
   "file_extension": ".py",
   "mimetype": "text/x-python",
   "name": "python",
   "nbconvert_exporter": "python",
   "pygments_lexer": "ipython3",
   "version": "3.8.2"
  }
 },
 "nbformat": 4,
 "nbformat_minor": 5
}
